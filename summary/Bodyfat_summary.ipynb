{
 "cells": [
  {
   "cell_type": "markdown",
   "metadata": {},
   "source": [
    "Zhendong Zhou, Linquan Ma, Wenjia Xie"
   ]
  },
  {
   "cell_type": "markdown",
   "metadata": {},
   "source": [
    "# Abstract"
   ]
  },
  {
   "cell_type": "markdown",
   "metadata": {},
   "source": [
    "   In this project, we build linear models for predicting body fat percentage. There are already various ways to estimate body fat percentage, for example, Katch and McArdle's model in 1977. However, some of the models are a little complicated, so that it is hard for people to remember. Our aim of this project is to derive a simple, robust, accurate and precise \"rule-of-thumb\" model that can be calculated and interpreted easily. We present through a 3-step process:\n",
    "   \n",
    "   1. Data pre-processing\n",
    "   \n",
    "   2. Model construction\n",
    "   \n",
    "   3. Model evaluation"
   ]
  },
  {
   "cell_type": "markdown",
   "metadata": {},
   "source": [
    "# 1. Data Pre-processing"
   ]
  },
  {
   "cell_type": "markdown",
   "metadata": {},
   "source": [
    "## Background and Data summary"
   ]
  },
  {
   "cell_type": "markdown",
   "metadata": {},
   "source": [
    "Body fat percentage reflects the risk of weight-related diseases. A variety of articles and reports give predictive equations for body fat percentage in terms of their circumference measurements. The data consists 252 men with their body fat percentage, age, weight, height, and various body circumference measurements."
   ]
  },
  {
   "cell_type": "markdown",
   "metadata": {},
   "source": [
    "## Outlier detection"
   ]
  },
  {
   "cell_type": "markdown",
   "metadata": {},
   "source": [
    "In this section, we detect all variables one by one, plot their histograms and view the extreme values to see if they are really ourliers. Here we just show the variables which are suspectable. Let's first take a look at bodyfat."
   ]
  },
  {
   "cell_type": "code",
   "execution_count": 4,
   "metadata": {},
   "outputs": [],
   "source": [
    "options(warn=-1) \n",
    "rm(list=ls())\n",
    "data=read.csv(\"BodyFat.csv\")\n",
    "attach(data)"
   ]
  },
  {
   "cell_type": "code",
   "execution_count": 5,
   "metadata": {},
   "outputs": [
    {
     "data": {
      "text/html": [
       "<table>\n",
       "<thead><tr><th></th><th scope=col>IDNO</th><th scope=col>BODYFAT</th><th scope=col>DENSITY</th><th scope=col>AGE</th><th scope=col>WEIGHT</th><th scope=col>HEIGHT</th><th scope=col>ADIPOSITY</th><th scope=col>NECK</th><th scope=col>CHEST</th><th scope=col>ABDOMEN</th><th scope=col>HIP</th><th scope=col>THIGH</th><th scope=col>KNEE</th><th scope=col>ANKLE</th><th scope=col>BICEPS</th><th scope=col>FOREARM</th><th scope=col>WRIST</th></tr></thead>\n",
       "<tbody>\n",
       "\t<tr><th scope=row>182</th><td>182   </td><td> 0.0  </td><td>1.1089</td><td>40    </td><td>118.5 </td><td>68    </td><td>18.1  </td><td>33.8  </td><td> 79.3 </td><td> 69.4 </td><td> 85.0 </td><td>47.2  </td><td>33.5  </td><td>20.2  </td><td>27.7  </td><td>24.6  </td><td>16.5  </td></tr>\n",
       "\t<tr><th scope=row>216</th><td>216   </td><td>45.1  </td><td>0.9950</td><td>51    </td><td>219.0 </td><td>64    </td><td>37.6  </td><td>41.2  </td><td>119.8 </td><td>122.1 </td><td>112.8 </td><td>62.5  </td><td>36.9  </td><td>23.6  </td><td>34.7  </td><td>29.1  </td><td>18.4  </td></tr>\n",
       "</tbody>\n",
       "</table>\n"
      ],
      "text/latex": [
       "\\begin{tabular}{r|lllllllllllllllll}\n",
       "  & IDNO & BODYFAT & DENSITY & AGE & WEIGHT & HEIGHT & ADIPOSITY & NECK & CHEST & ABDOMEN & HIP & THIGH & KNEE & ANKLE & BICEPS & FOREARM & WRIST\\\\\n",
       "\\hline\n",
       "\t182 & 182    &  0.0   & 1.1089 & 40     & 118.5  & 68     & 18.1   & 33.8   &  79.3  &  69.4  &  85.0  & 47.2   & 33.5   & 20.2   & 27.7   & 24.6   & 16.5  \\\\\n",
       "\t216 & 216    & 45.1   & 0.9950 & 51     & 219.0  & 64     & 37.6   & 41.2   & 119.8  & 122.1  & 112.8  & 62.5   & 36.9   & 23.6   & 34.7   & 29.1   & 18.4  \\\\\n",
       "\\end{tabular}\n"
      ],
      "text/markdown": [
       "\n",
       "| <!--/--> | IDNO | BODYFAT | DENSITY | AGE | WEIGHT | HEIGHT | ADIPOSITY | NECK | CHEST | ABDOMEN | HIP | THIGH | KNEE | ANKLE | BICEPS | FOREARM | WRIST | \n",
       "|---|---|\n",
       "| 182 | 182    |  0.0   | 1.1089 | 40     | 118.5  | 68     | 18.1   | 33.8   |  79.3  |  69.4  |  85.0  | 47.2   | 33.5   | 20.2   | 27.7   | 24.6   | 16.5   | \n",
       "| 216 | 216    | 45.1   | 0.9950 | 51     | 219.0  | 64     | 37.6   | 41.2   | 119.8  | 122.1  | 112.8  | 62.5   | 36.9   | 23.6   | 34.7   | 29.1   | 18.4   | \n",
       "\n",
       "\n"
      ],
      "text/plain": [
       "    IDNO BODYFAT DENSITY AGE WEIGHT HEIGHT ADIPOSITY NECK CHEST ABDOMEN HIP  \n",
       "182 182   0.0    1.1089  40  118.5  68     18.1      33.8  79.3  69.4    85.0\n",
       "216 216  45.1    0.9950  51  219.0  64     37.6      41.2 119.8 122.1   112.8\n",
       "    THIGH KNEE ANKLE BICEPS FOREARM WRIST\n",
       "182 47.2  33.5 20.2  27.7   24.6    16.5 \n",
       "216 62.5  36.9 23.6  34.7   29.1    18.4 "
      ]
     },
     "metadata": {},
     "output_type": "display_data"
    }
   ],
   "source": [
    "data[c(which(BODYFAT==0),which(BODYFAT>40)),]"
   ]
  },
  {
   "cell_type": "markdown",
   "metadata": {},
   "source": [
    "From the output above, there are two outliers:\n",
    "\n",
    "For the 182th record, it has zero body fat, which is impossible. Therefore, we delete the 182nd data point whose bodyfat was recorded as 0. For the 216th data point, chest and abdomen circumference are huge at the same time. Hence we consider the data correct. Next, we take a look at height."
   ]
  },
  {
   "cell_type": "code",
   "execution_count": 6,
   "metadata": {},
   "outputs": [
    {
     "data": {
      "text/html": [
       "<table>\n",
       "<thead><tr><th></th><th scope=col>IDNO</th><th scope=col>BODYFAT</th><th scope=col>DENSITY</th><th scope=col>AGE</th><th scope=col>WEIGHT</th><th scope=col>HEIGHT</th><th scope=col>ADIPOSITY</th><th scope=col>NECK</th><th scope=col>CHEST</th><th scope=col>ABDOMEN</th><th scope=col>HIP</th><th scope=col>THIGH</th><th scope=col>KNEE</th><th scope=col>ANKLE</th><th scope=col>BICEPS</th><th scope=col>FOREARM</th><th scope=col>WRIST</th></tr></thead>\n",
       "<tbody>\n",
       "\t<tr><th scope=row>42</th><td>42   </td><td>31.7 </td><td>1.025</td><td>44   </td><td>205  </td><td>29.5 </td><td>29.9 </td><td>36.6 </td><td>106  </td><td>104.3</td><td>115.5</td><td>70.6 </td><td>42.5 </td><td>23.7 </td><td>33.6 </td><td>28.7 </td><td>17.4 </td></tr>\n",
       "</tbody>\n",
       "</table>\n"
      ],
      "text/latex": [
       "\\begin{tabular}{r|lllllllllllllllll}\n",
       "  & IDNO & BODYFAT & DENSITY & AGE & WEIGHT & HEIGHT & ADIPOSITY & NECK & CHEST & ABDOMEN & HIP & THIGH & KNEE & ANKLE & BICEPS & FOREARM & WRIST\\\\\n",
       "\\hline\n",
       "\t42 & 42    & 31.7  & 1.025 & 44    & 205   & 29.5  & 29.9  & 36.6  & 106   & 104.3 & 115.5 & 70.6  & 42.5  & 23.7  & 33.6  & 28.7  & 17.4 \\\\\n",
       "\\end{tabular}\n"
      ],
      "text/markdown": [
       "\n",
       "| <!--/--> | IDNO | BODYFAT | DENSITY | AGE | WEIGHT | HEIGHT | ADIPOSITY | NECK | CHEST | ABDOMEN | HIP | THIGH | KNEE | ANKLE | BICEPS | FOREARM | WRIST | \n",
       "|---|\n",
       "| 42 | 42    | 31.7  | 1.025 | 44    | 205   | 29.5  | 29.9  | 36.6  | 106   | 104.3 | 115.5 | 70.6  | 42.5  | 23.7  | 33.6  | 28.7  | 17.4  | \n",
       "\n",
       "\n"
      ],
      "text/plain": [
       "   IDNO BODYFAT DENSITY AGE WEIGHT HEIGHT ADIPOSITY NECK CHEST ABDOMEN HIP  \n",
       "42 42   31.7    1.025   44  205    29.5   29.9      36.6 106   104.3   115.5\n",
       "   THIGH KNEE ANKLE BICEPS FOREARM WRIST\n",
       "42 70.6  42.5 23.7  33.6   28.7    17.4 "
      ]
     },
     "metadata": {},
     "output_type": "display_data"
    }
   ],
   "source": [
    "data[which(HEIGHT<40),]"
   ]
  },
  {
   "cell_type": "markdown",
   "metadata": {},
   "source": [
    "We can see that the 42nd man is about 29.5 inches tall, which is unrealistic, especially when he weights 205lbs. But his BMI is 29.8, which seems right. There must be something wrong when recording his height. So we compute height from both weight and BMI. After computation, the 42nd data point looks normal. At the same time, when we were examining other extreme values of other variables, we found that the 39th man was appeared frequently. It implies that the 39th data point is an outlier. But there is nothing wrong with this data point. So we won't delete it, and will discuss it in the remaining part. In summary, we only delete one data point, which is one with 0 bodyfat."
   ]
  },
  {
   "cell_type": "markdown",
   "metadata": {},
   "source": [
    "## Variable Selection"
   ]
  },
  {
   "cell_type": "markdown",
   "metadata": {},
   "source": [
    "Since the sample size is not large enough to build a persuasive model, we compare different models proposed by other researchers and select the one that fits our needs.\n",
    "\n",
    "We fuond different ways of bodyfat calculation, which are listed below:\n",
    "\n",
    "https://www.active.com/fitness/calculators/bodyfat, https://www.omnicalculator.com/health/body-fat, http://www.bmi-calculator.net/body-fat-calculator/, https://www.verywellfit.com/how-to-use-body-fat-percentage-calculator-3858855. These pages all indicates that weight and abdomen are most crucial to the calculation of body fat. From our perspective, it is also the most widely used model;\n",
    "\n",
    "https://www.calculator.net/body-fat-calculator.html. This page suggests that age, weight, height, neck, abdomen, hip are all needed for the calculation of body fat.\n",
    "\n",
    "https://jianfei.39.net/box/bfr, This page says that weight, height and age are crucial to the calculation;\n",
    "\n",
    "Above all, on considering that our aim is a \"rule-of-thumb\" model, the first set of variables provides us least variables, so we use weight and abdomen as our predictors."
   ]
  },
  {
   "cell_type": "markdown",
   "metadata": {},
   "source": [
    "# 2. Model construction"
   ]
  },
  {
   "cell_type": "markdown",
   "metadata": {},
   "source": [
    "## Linear model"
   ]
  },
  {
   "cell_type": "code",
   "execution_count": 7,
   "metadata": {},
   "outputs": [],
   "source": [
    "data1 <- data[-which(data$BODYFAT == 0), ]"
   ]
  },
  {
   "cell_type": "markdown",
   "metadata": {},
   "source": [
    " By using weight and abdomen, we can obtain the least square estimates:"
   ]
  },
  {
   "cell_type": "code",
   "execution_count": 8,
   "metadata": {},
   "outputs": [
    {
     "data": {
      "text/plain": [
       "\n",
       "Call:\n",
       "lm(formula = BODYFAT ~ ABDOMEN + WEIGHT, data = data1)\n",
       "\n",
       "Residuals:\n",
       "     Min       1Q   Median       3Q      Max \n",
       "-10.5556  -2.9920   0.0099   2.9368   9.7407 \n",
       "\n",
       "Coefficients:\n",
       "             Estimate Std. Error t value Pr(>|t|)    \n",
       "(Intercept) -40.89988    2.42652 -16.855  < 2e-16 ***\n",
       "ABDOMEN       0.91169    0.05246  17.377  < 2e-16 ***\n",
       "WEIGHT       -0.13704    0.01923  -7.125 1.13e-11 ***\n",
       "---\n",
       "Signif. codes:  0 '***' 0.001 '**' 0.01 '*' 0.05 '.' 0.1 ' ' 1\n",
       "\n",
       "Residual standard error: 4.118 on 248 degrees of freedom\n",
       "Multiple R-squared:  0.7143,\tAdjusted R-squared:  0.712 \n",
       "F-statistic: 310.1 on 2 and 248 DF,  p-value: < 2.2e-16\n"
      ]
     },
     "metadata": {},
     "output_type": "display_data"
    }
   ],
   "source": [
    "lm1 <- lm(BODYFAT ~ ABDOMEN + WEIGHT, data = data1)\n",
    "summary(lm1)"
   ]
  },
  {
   "cell_type": "markdown",
   "metadata": {},
   "source": [
    "From the summary, all the parameters are significant, with the p-value for abdomen to be 2e-16, while the p-value for weight to be 1.13e-11, which means that the with the assumption that abodmen and weight should not be included into this linear model, the possibility that we accept this assumption is 2e-16 and 1.13e-11 and we should definitely reject this hypothesis. And we also noticed that it's a model with $R^2 = 0.714$. Reminded that the full model has $R_{full} = 0.745$, which is not significantly larger than the $R^2$ in our model. We hence consider our model adequate."
   ]
  },
  {
   "cell_type": "markdown",
   "metadata": {},
   "source": [
    "## Making the model more robust to outliers"
   ]
  },
  {
   "cell_type": "markdown",
   "metadata": {},
   "source": [
    "As previously discussed, 39th patient is absolutely an outlier. Our aim is to make our model simple and robust. One of the common way in robust statistics is to change the loss function from square loss to Huber loss. Huber loss is actually a combination of absolute loss and square loss. It is square loss near the origin, and absolute loss otherwise. We choose the tuning parameter as the default parameter in the hqreg function."
   ]
  },
  {
   "cell_type": "code",
   "execution_count": 9,
   "metadata": {},
   "outputs": [
    {
     "ename": "ERROR",
     "evalue": "Error in library(hqreg): there is no package called 'hqreg'\n",
     "output_type": "error",
     "traceback": [
      "Error in library(hqreg): there is no package called 'hqreg'\nTraceback:\n",
      "1. library(hqreg)",
      "2. stop(txt, domain = NA)"
     ]
    }
   ],
   "source": [
    "library(MASS)\n",
    "library(hqreg)\n",
    "warnings('off')\n",
    "\n",
    "huber1 <- hqreg(cbind(data1$WEIGHT, data1$ABDOMEN), data1$BODYFAT, nlambda = 2, lambda.min = 0)\n",
    "predict_huber <- predict(huber1, cbind(data1$WEIGHT, data1$ABDOMEN), lambda = 0)\n",
    "lowess1 <- lowess(predict_huber, data1$BODYFAT - predict(huber1, cbind(data1$WEIGHT, data1$ABDOMEN), lambda = 0))\n",
    "lowess2 <- lowess(predict(lm1), data1$BODYFAT - predict(lm1))\n",
    "plot(predict(lm1), data1$BODYFAT - predict(lm1), ylim = c(-13, 13), xlim = c(5, 45), col = 'orange', pch = 16, xlab = 'Fitted value', ylab = 'Residual', main = 'Comparison of residual plots')\n",
    "lines(lowess2$x, lowess2$y, col = 'red', lwd = 2)\n",
    "lines(lowess1$x, lowess1$y, col = 'green', lwd = 2)\n",
    "abline(h = 0)\n",
    "points(predict_huber, data1$BODYFAT - predict_huber, ylim = c(-13, 13), xlim = c(5, 45), pch = 17, col = 'blue')\n",
    "legend('topright', legend = c('Square loss', 'Huber loss'), pch = c(16, 17), col = c('orange', 'blue'), cex = 0.8)\n",
    "legend('topleft', legend = c('Square loss', 'Huber loss'), lty = rep(1, 2), col = c('red', 'green'), cex = 0.8)"
   ]
  },
  {
   "cell_type": "markdown",
   "metadata": {},
   "source": [
    "The above plot shows the comparison between linear regression with square loss and Huber loss. We see that if bodyfat percentage is between 10 to 30, Huber loss have a better performance (the green line is closer to 0 as compared to the red line). This is because outliers has less impact under Huber loss. We consider the results under Huber loss as our final simple and robust method for predicting bodyfat percentage. The parameter were shown below:"
   ]
  },
  {
   "cell_type": "markdown",
   "metadata": {},
   "source": [
    "In summary, the formula we derived from the analysis is:$$ bodyfat(\\%) = -0.15 * weight(lbs) + 0.95 * abdomen(cm) -44.4$$"
   ]
  },
  {
   "cell_type": "markdown",
   "metadata": {},
   "source": [
    "# 3. Model diagnosis"
   ]
  },
  {
   "cell_type": "markdown",
   "metadata": {},
   "source": [
    "First we check the **Normality Assumption** using shapiro.test() function: with assumption that they are normal, the consequece below shows that with confidence coefficient = 0.05, we have no reason to reject the hypothesis, so we can say that the data are normal."
   ]
  },
  {
   "cell_type": "code",
   "execution_count": null,
   "metadata": {},
   "outputs": [],
   "source": [
    "shapiro.test(data1$BODYFAT - predict(lm1))"
   ]
  },
  {
   "cell_type": "markdown",
   "metadata": {},
   "source": [
    "Then we go check the **Linearity Assumption** through residuals vs fitted values plot: The residuals vs fitted values plot shows no distinct patterns, which means there is no non-linear relation between predictors and outcomes. In another word, the simple linear model is approporiate."
   ]
  },
  {
   "cell_type": "markdown",
   "metadata": {},
   "source": [
    "Finally let's check the **Equal Variance Assumption** through the residuals vs fitted values plot: It shows that the residuals appears to spread randomly along the range of fitted values, which means residuals are homoscedastic."
   ]
  },
  {
   "cell_type": "markdown",
   "metadata": {},
   "source": [
    "# 4. Discussion of Model"
   ]
  },
  {
   "cell_type": "markdown",
   "metadata": {},
   "source": [
    "## Strengths"
   ]
  },
  {
   "cell_type": "markdown",
   "metadata": {},
   "source": [
    "The best thing of our model should be the improvement to our model's robustness, which we use huber loss instead of general loss function. And the influence is apparent that it performs better when body fat is between 10% - 30%."
   ]
  },
  {
   "cell_type": "markdown",
   "metadata": {},
   "source": [
    "Another strength of our model is the simplicity: It only have two variables and both of them are easy to measure"
   ]
  },
  {
   "cell_type": "markdown",
   "metadata": {},
   "source": [
    "## weakness"
   ]
  },
  {
   "cell_type": "markdown",
   "metadata": {},
   "source": [
    "Firstly, when we were doing data pre-processing, we delete data as little as possible to keep the original appearance of the data, but the consequence might be that there are outliers exising in the data influencing the outcome. Though we overcome it through changing loss function, but we don't know if it will work in a new data set and if we need to come up with a new method to deal with new potential problems."
   ]
  },
  {
   "cell_type": "markdown",
   "metadata": {},
   "source": [
    "Secondly, we can only analyze our new model through residuals plot, the p-value and other statistics are hard to derive for there is no build-in function to do it like in **lm()** function."
   ]
  },
  {
   "cell_type": "markdown",
   "metadata": {},
   "source": [
    "## Rule of Thumb"
   ]
  },
  {
   "cell_type": "markdown",
   "metadata": {},
   "source": [
    "In summary, if you want to know your bodyfat percentage, you just need know your weight with lbs and abdomen with cm. Your weight times -0.15 plus your abdomen times 0.95, finally minus 44.4. The answer is your bodyfat percentage."
   ]
  },
  {
   "cell_type": "markdown",
   "metadata": {},
   "source": [
    "# Conclusion"
   ]
  },
  {
   "cell_type": "markdown",
   "metadata": {},
   "source": [
    "1. The formula to calculate your body fat is $$ bodyfat(\\%) = -0.15 \\times weight(lbs) + 0.95 \\times abdomen(cm) -44.4$$"
   ]
  },
  {
   "cell_type": "markdown",
   "metadata": {},
   "source": [
    "2. When applying huber loss fucntion, it performs better when bodyfat is between 10% and 30%"
   ]
  },
  {
   "cell_type": "markdown",
   "metadata": {},
   "source": [
    "# Contribution"
   ]
  },
  {
   "cell_type": "markdown",
   "metadata": {},
   "source": [
    "|    __Name__        | __Contribution__ |\n",
    "| -------------:     | :--------------- |\n",
    "|   Wenjia Xie       | Conducted the data pre-process part and finish part of the slides       |\n",
    "|   Linquan Ma       | Constructed and improve the model and finish part of the slides         |\n",
    "|   Zhendong Zhou    | Did diagnosis and finish the shiny app, together with jupyter notebook  |"
   ]
  },
  {
   "cell_type": "markdown",
   "metadata": {},
   "source": [
    "# References"
   ]
  },
  {
   "cell_type": "markdown",
   "metadata": {},
   "source": [
    "1. 体脂率计算公式， 2019，retrieved from https://baike.baidu.com/item/%E4%BD%93%E8%84%82%E7%8E%87?fr=aladdin#1\n",
    "\n",
    "2. 身体脂肪率计算器, 2018, retrieved from https://jianfei.39.net/box/bfr\n",
    "\n",
    "3. 体脂率计算器,2015, retrieved from https://www.hiyd.com/tools/Bodyfat\n"
   ]
  }
 ],
 "metadata": {
  "kernelspec": {
   "display_name": "R",
   "language": "R",
   "name": "ir"
  },
  "language_info": {
   "codemirror_mode": "r",
   "file_extension": ".r",
   "mimetype": "text/x-r-source",
   "name": "R",
   "pygments_lexer": "r",
   "version": "3.5.1"
  }
 },
 "nbformat": 4,
 "nbformat_minor": 2
}
